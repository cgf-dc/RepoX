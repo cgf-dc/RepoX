{
  "nbformat": 4,
  "nbformat_minor": 0,
  "metadata": {
    "colab": {
      "name": "TestThing.ipynb",
      "provenance": [],
      "collapsed_sections": []
    },
    "kernelspec": {
      "name": "python3",
      "display_name": "Python 3"
    },
    "language_info": {
      "name": "python"
    }
  },
  "cells": [
    {
      "cell_type": "markdown",
      "metadata": {
        "id": "5XC0WYEOIgN1"
      },
      "source": [
        "# This is a test!"
      ]
    },
    {
      "cell_type": "markdown",
      "metadata": {
        "id": "1AW0FkuhIh6g"
      },
      "source": [
        "## This is only a test!\n",
        "\n",
        "Do not be alartmed about this test!\n",
        "\n",
        "Here is a [simple link](https://www.google.com).\n",
        "\n",
        "<img src=\"https://cdn.arstechnica.net/wp-content/uploads/2020/11/zeroday-800x534.jpg\" alt=\"Buncha Stuff\" width=\"500\" align=\"left\"/>"
      ]
    },
    {
      "cell_type": "markdown",
      "metadata": {
        "id": "_8KjbyuxInH2"
      },
      "source": [
        "## This is only a test!\n",
        "\n",
        "Do not be alartmed about this test!"
      ]
    },
    {
      "cell_type": "code",
      "metadata": {
        "id": "ruzETYw7IrUB"
      },
      "source": [
        "import matplotlib\n",
        "import pandas as pd"
      ],
      "execution_count": 1,
      "outputs": []
    },
    {
      "cell_type": "code",
      "metadata": {
        "colab": {
          "base_uri": "https://localhost:8080/"
        },
        "id": "kl1w7ZbTIo4L",
        "outputId": "6b1b5389-a512-49b9-eca3-35d8919af1df"
      },
      "source": [
        "print(\"Echo!\")"
      ],
      "execution_count": 2,
      "outputs": [
        {
          "output_type": "stream",
          "text": [
            "Echo!\n"
          ],
          "name": "stdout"
        }
      ]
    },
    {
      "cell_type": "code",
      "metadata": {
        "colab": {
          "base_uri": "https://localhost:8080/",
          "height": 283
        },
        "id": "5_DidsDcIqgg",
        "outputId": "62f6b0f3-5a22-4b0e-a5b2-f0a04a56e100"
      },
      "source": [
        "df = pd.DataFrame({\"ColOne\": [0, 1, 2], \"ColTwo\": [0, 1, 2]})\n",
        "df.plot()"
      ],
      "execution_count": 3,
      "outputs": [
        {
          "output_type": "execute_result",
          "data": {
            "text/plain": [
              "<matplotlib.axes._subplots.AxesSubplot at 0x7f646a9caad0>"
            ]
          },
          "metadata": {
            "tags": []
          },
          "execution_count": 3
        },
        {
          "output_type": "display_data",
          "data": {
            "image/png": "[encoded data removed]",
            "text/plain": [
              "<Figure size 432x288 with 1 Axes>"
            ]
          },
          "metadata": {
            "tags": [],
            "needs_background": "light"
          }
        }
      ]
    }
  ]
}
